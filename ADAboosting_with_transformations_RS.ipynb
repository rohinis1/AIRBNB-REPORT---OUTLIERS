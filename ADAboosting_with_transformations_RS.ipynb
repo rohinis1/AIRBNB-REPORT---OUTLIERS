{
 "cells": [
  {
   "cell_type": "code",
   "execution_count": 1,
   "metadata": {},
   "outputs": [
    {
     "name": "stderr",
     "output_type": "stream",
     "text": [
      "C:\\ProgramData\\Anaconda3\\lib\\site-packages\\sklearn\\cross_validation.py:41: DeprecationWarning: This module was deprecated in version 0.18 in favor of the model_selection module into which all the refactored classes and functions are moved. Also note that the interface of the new CV iterators are different from that of this module. This module will be removed in 0.20.\n",
      "  \"This module will be removed in 0.20.\", DeprecationWarning)\n"
     ]
    }
   ],
   "source": [
    "import pandas as pd\n",
    "import numpy as np\n",
    "from sklearn.tree import DecisionTreeClassifier\n",
    "from sklearn.cross_validation import train_test_split\n",
    "from sklearn.datasets import make_hastie_10_2\n",
    "import matplotlib.pyplot as plt\n",
    "from sklearn.ensemble import AdaBoostClassifier #For Classification\n",
    "from sklearn.tree import DecisionTreeClassifier"
   ]
  },
  {
   "cell_type": "code",
   "execution_count": 2,
   "metadata": {},
   "outputs": [
    {
     "name": "stderr",
     "output_type": "stream",
     "text": [
      "C:\\ProgramData\\Anaconda3\\lib\\site-packages\\IPython\\core\\interactiveshell.py:2728: DtypeWarning: Columns (29,44,46,70) have mixed types. Specify dtype option on import or set low_memory=False.\n",
      "  interactivity=interactivity, compiler=compiler, result=result)\n"
     ]
    }
   ],
   "source": [
    "data = pd.read_csv(\"train_x_april29_7pm.csv\")"
   ]
  },
  {
   "cell_type": "code",
   "execution_count": 3,
   "metadata": {},
   "outputs": [],
   "source": [
    "#variable-listing verifications\n",
    "data['Reviews'] = np.where(data['host_identity_verified'].str.contains('Reviews' or 'review' or 'reviews'), 'yes', 'no')\n",
    "data['Email'] = np.where(data['host_identity_verified'].str.contains('email' or 'Email'), 'yes', 'no')\n",
    "data['Phone'] = np.where(data['host_identity_verified'].str.contains('phone' or 'Telephone'), 'yes', 'no')\n",
    "data['Facebook'] = np.where(data['host_identity_verified'].str.contains('Facebook'), 'yes', 'no')"
   ]
  },
  {
   "cell_type": "code",
   "execution_count": 4,
   "metadata": {},
   "outputs": [],
   "source": [
    "#availability_30,60\n",
    "data.availability_30 = (data.availability_30/30)*100\n",
    "data.availability_60 = (data.availability_60/60)*100\n",
    "data['interaction_availability'] = (data.availability_30/30) - (data.availability_60/60)"
   ]
  },
  {
   "cell_type": "code",
   "execution_count": 5,
   "metadata": {},
   "outputs": [],
   "source": [
    "#availability_90,365\n",
    "data.availability_90 = (data.availability_90/90)*100\n",
    "data.availability_365 = (data.availability_365/365)*100\n",
    "data['interaction_availability1'] = (data.availability_90/90) - (data.availability_365/365)"
   ]
  },
  {
   "cell_type": "code",
   "execution_count": 6,
   "metadata": {},
   "outputs": [
    {
     "name": "stdout",
     "output_type": "stream",
     "text": [
      "<class 'pandas.core.frame.DataFrame'>\n",
      "RangeIndex: 100000 entries, 0 to 99999\n",
      "Data columns (total 84 columns):\n",
      "Unnamed: 0                          100000 non-null int64\n",
      "Unnamed: 0.1                        100000 non-null int64\n",
      "access                              65564 non-null object\n",
      "accommodates                        100000 non-null float64\n",
      "amenities                           100000 non-null object\n",
      "availability_30                     100000 non-null float64\n",
      "availability_365                    100000 non-null float64\n",
      "availability_60                     100000 non-null float64\n",
      "availability_90                     100000 non-null float64\n",
      "bathrooms                           100000 non-null float64\n",
      "bed_type                            100000 non-null object\n",
      "bedrooms                            100000 non-null float64\n",
      "beds                                100000 non-null float64\n",
      "cancellation_policy                 100000 non-null object\n",
      "city                                100000 non-null object\n",
      "city_name                           99999 non-null object\n",
      "cleaning_fee                        100000 non-null float64\n",
      "country                             99999 non-null object\n",
      "country_code                        99993 non-null object\n",
      "description                         99973 non-null object\n",
      "experiences_offered                 99997 non-null object\n",
      "extra_people                        100000 non-null float64\n",
      "first_review                        99992 non-null object\n",
      "guests_included                     100000 non-null float64\n",
      "host_about                          69179 non-null object\n",
      "host_acceptance_rate                8242 non-null object\n",
      "host_has_profile_pic                100000 non-null object\n",
      "host_identity_verified              100000 non-null object\n",
      "host_is_superhost                   100000 non-null float64\n",
      "host_listings_count                 99855 non-null object\n",
      "host_location                       99589 non-null object\n",
      "host_name                           99853 non-null object\n",
      "host_neighbourhood                  82767 non-null object\n",
      "host_response_rate                  100000 non-null float64\n",
      "host_response_time                  100000 non-null float64\n",
      "host_since                          99858 non-null object\n",
      "host_total_listings_count           100000 non-null float64\n",
      "host_verifications                  99990 non-null object\n",
      "house_rules                         69607 non-null object\n",
      "instant_bookable                    100000 non-null float64\n",
      "interaction                         64120 non-null object\n",
      "is_business_travel_ready            100000 non-null float64\n",
      "is_location_exact                   100000 non-null object\n",
      "jurisdiction_names                  47310 non-null object\n",
      "latitude                            99990 non-null object\n",
      "license                             14279 non-null object\n",
      "longitude                           99989 non-null object\n",
      "market                              99567 non-null object\n",
      "maximum_nights                      100000 non-null float64\n",
      "minimum_nights                      100000 non-null float64\n",
      "monthly_price                       20564 non-null object\n",
      "name                                99967 non-null object\n",
      "neighborhood_overview               69257 non-null object\n",
      "neighbourhood                       86447 non-null object\n",
      "notes                               51466 non-null object\n",
      "price                               100000 non-null float64\n",
      "property_type                       100000 non-null object\n",
      "require_guest_phone_verification    99981 non-null object\n",
      "require_guest_profile_picture       100000 non-null object\n",
      "requires_license                    100000 non-null object\n",
      "room_type                           100000 non-null object\n",
      "security_deposit                    100000 non-null object\n",
      "smart_location                      99980 non-null object\n",
      "space                               78955 non-null object\n",
      "square_feet                         1581 non-null float64\n",
      "state                               100000 non-null object\n",
      "street                              99981 non-null object\n",
      "summary                             97036 non-null object\n",
      "transit                             70833 non-null object\n",
      "weekly_price                        24105 non-null object\n",
      "zipcode                             98951 non-null object\n",
      "Wifi                                100000 non-null object\n",
      "parking                             100000 non-null object\n",
      "Kitchen                             100000 non-null object\n",
      "24-hour-check                       100000 non-null object\n",
      "Breakfast                           100000 non-null object\n",
      "ac                                  100000 non-null object\n",
      "Heating                             100000 non-null object\n",
      "Reviews                             100000 non-null object\n",
      "Email                               100000 non-null object\n",
      "Phone                               100000 non-null object\n",
      "Facebook                            100000 non-null object\n",
      "interaction_availability            100000 non-null float64\n",
      "interaction_availability1           100000 non-null float64\n",
      "dtypes: float64(23), int64(2), object(59)\n",
      "memory usage: 64.1+ MB\n"
     ]
    }
   ],
   "source": [
    "data.info()"
   ]
  },
  {
   "cell_type": "code",
   "execution_count": 7,
   "metadata": {},
   "outputs": [],
   "source": [
    "train_y = pd.read_csv(\"airbnb_train_y.csv\")"
   ]
  },
  {
   "cell_type": "code",
   "execution_count": 8,
   "metadata": {},
   "outputs": [],
   "source": [
    "data['24-hour-check'] = data['24-hour-check'].astype('category')\n",
    "data[\"24-hour-check\"] = data[\"24-hour-check\"].cat.codes\n",
    "data['24-hour-check'] = data['24-hour-check'].astype('category')\n",
    "\n",
    "data.bed_type = data.bed_type.astype('category')\n",
    "data[\"bed_type\"] = data[\"bed_type\"].cat.codes\n",
    "data.bed_type = data.bed_type.astype('category')\n",
    "\n",
    "data.cancellation_policy = data.cancellation_policy.astype('category')\n",
    "data[\"cancellation_policy\"] = data[\"cancellation_policy\"].cat.codes\n",
    "data.cancellation_policy = data.cancellation_policy.astype('category')\n",
    "\n",
    "data.Wifi = data.Wifi.astype('category')\n",
    "data[\"Wifi\"] = data[\"Wifi\"].cat.codes\n",
    "data.Wifi = data.Wifi.astype('category')\n",
    "\n",
    "data.parking = data.parking.astype('category')\n",
    "data[\"parking\"] = data[\"parking\"].cat.codes\n",
    "data.parking = data.parking.astype('category')\n",
    "\n",
    "data.Kitchen = data.Kitchen.astype('category')\n",
    "data[\"Kitchen\"] = data[\"Kitchen\"].cat.codes\n",
    "data.Kitchen = data.Kitchen.astype('category')\n",
    "\n",
    "data.Breakfast = data.Breakfast.astype('category')\n",
    "data[\"Breakfast\"] = data[\"Breakfast\"].cat.codes\n",
    "data.Breakfast = data.Breakfast.astype('category')\n",
    "\n",
    "data.ac = data.ac.astype('category')\n",
    "data[\"ac\"] = data[\"ac\"].cat.codes\n",
    "data.ac = data.ac.astype('category')\n",
    "\n",
    "data.Heating = data.Heating.astype('category')\n",
    "data[\"Heating\"] = data[\"Heating\"].cat.codes\n",
    "data.Heating = data.Heating.astype('category')\n",
    "\n",
    "data.host_has_profile_pic = data.host_has_profile_pic.astype('category')\n",
    "data[\"host_has_profile_pic\"] = data[\"host_has_profile_pic\"].cat.codes\n",
    "data.host_has_profile_pic = data.host_has_profile_pic.astype('category')\n",
    "\n",
    "data.host_is_superhost = data.host_is_superhost.astype('category')\n",
    "data[\"host_is_superhost\"] = data[\"host_is_superhost\"].cat.codes\n",
    "data.host_is_superhost = data.host_is_superhost.astype('category')\n",
    "\n",
    "data.host_response_time = data.host_response_time.astype('category')\n",
    "data[\"host_response_time\"] = data[\"host_response_time\"].cat.codes\n",
    "data.host_response_time = data.host_response_time.astype('category')\n",
    "\n",
    "data.Reviews = data.Reviews.astype('category')\n",
    "data[\"Reviews\"] = data[\"Reviews\"].cat.codes\n",
    "data.Reviews = data.Reviews.astype('category')\n",
    "\n",
    "data.Facebook = data.Facebook.astype('category')\n",
    "data[\"Facebook\"] = data[\"Facebook\"].cat.codes\n",
    "data.Facebook = data.Facebook.astype('category')\n",
    "\n",
    "data.Phone = data.Phone.astype('category')\n",
    "data[\"Phone\"] = data[\"Phone\"].cat.codes\n",
    "data.Phone = data.Phone.astype('category')\n",
    "\n",
    "data.Email = data.Email.astype('category')\n",
    "data[\"Email\"] = data[\"Email\"].cat.codes\n",
    "data.Email = data.Email.astype('category')\n",
    "\n",
    "\n",
    "data.security_deposit = data.security_deposit.astype('category')\n",
    "data[\"security_deposit\"] = data[\"security_deposit\"].cat.codes\n",
    "data.security_deposit = data.security_deposit.astype('category')\n",
    "\n",
    "data.state = data.state.astype('category')\n",
    "data[\"state\"] = data[\"state\"].cat.codes\n",
    "data.state = data.state.astype('category')\n",
    "\n",
    "data.property_type=data.property_type.astype('category')\n",
    "data[\"property_type\"] = data[\"property_type\"].cat.codes\n",
    "data.property_type=data.property_type.astype('category')\n",
    "\n",
    "data.instant_bookable = data.instant_bookable.astype('category')\n",
    "data[\"instant_bookable\"] = data[\"instant_bookable\"].cat.codes\n",
    "data.instant_bookable = data.instant_bookable.astype('category')\n",
    "\n",
    "data.is_business_travel_ready = data.is_business_travel_ready.astype('category')\n",
    "data[\"is_business_travel_ready\"] = data[\"is_business_travel_ready\"].cat.codes\n",
    "data.is_business_travel_ready = data.is_business_travel_ready.astype('category')\n",
    "\n",
    "data.is_location_exact = data.is_location_exact.astype('category')\n",
    "data[\"is_location_exact\"] = data[\"is_location_exact\"].cat.codes\n",
    "data.is_location_exact = data.is_location_exact.astype('category')\n",
    "\n",
    "data.city = data.city.astype('category')\n",
    "data[\"city\"] = data[\"city\"].cat.codes\n",
    "data.city = data.city.astype('category')"
   ]
  },
  {
   "cell_type": "code",
   "execution_count": 9,
   "metadata": {},
   "outputs": [],
   "source": [
    "data.room_type = data.room_type.astype('category')\n",
    "data[\"room_type\"] = data[\"room_type\"].cat.codes\n",
    "data.room_type = data.room_type.astype('category')"
   ]
  },
  {
   "cell_type": "code",
   "execution_count": 10,
   "metadata": {},
   "outputs": [
    {
     "data": {
      "text/plain": [
       "False    100000\n",
       "Name: high_booking_rate, dtype: int64"
      ]
     },
     "execution_count": 10,
     "metadata": {},
     "output_type": "execute_result"
    }
   ],
   "source": [
    "train_y.high_booking_rate = pd.to_numeric(train_y['high_booking_rate'], errors='coerce')\n",
    "train_y.high_booking_rate .fillna(train_y.high_booking_rate.mode()[0], inplace = True)\n",
    "train_y.high_booking_rate.isnull().value_counts()"
   ]
  },
  {
   "cell_type": "code",
   "execution_count": 13,
   "metadata": {},
   "outputs": [
    {
     "name": "stdout",
     "output_type": "stream",
     "text": [
      "<class 'pandas.core.frame.DataFrame'>\n",
      "RangeIndex: 100000 entries, 0 to 99999\n",
      "Data columns (total 84 columns):\n",
      "Unnamed: 0                          100000 non-null int64\n",
      "Unnamed: 0.1                        100000 non-null int64\n",
      "access                              65564 non-null object\n",
      "accommodates                        100000 non-null float64\n",
      "amenities                           100000 non-null object\n",
      "availability_30                     100000 non-null float64\n",
      "availability_365                    100000 non-null float64\n",
      "availability_60                     100000 non-null float64\n",
      "availability_90                     100000 non-null float64\n",
      "bathrooms                           100000 non-null float64\n",
      "bed_type                            100000 non-null category\n",
      "bedrooms                            100000 non-null float64\n",
      "beds                                100000 non-null float64\n",
      "cancellation_policy                 100000 non-null category\n",
      "city                                100000 non-null category\n",
      "city_name                           99999 non-null object\n",
      "cleaning_fee                        100000 non-null float64\n",
      "country                             99999 non-null object\n",
      "country_code                        99993 non-null object\n",
      "description                         99973 non-null object\n",
      "experiences_offered                 99997 non-null object\n",
      "extra_people                        100000 non-null float64\n",
      "first_review                        99992 non-null object\n",
      "guests_included                     100000 non-null float64\n",
      "host_about                          69179 non-null object\n",
      "host_acceptance_rate                8242 non-null object\n",
      "host_has_profile_pic                100000 non-null category\n",
      "host_identity_verified              100000 non-null object\n",
      "host_is_superhost                   100000 non-null category\n",
      "host_listings_count                 99855 non-null object\n",
      "host_location                       99589 non-null object\n",
      "host_name                           99853 non-null object\n",
      "host_neighbourhood                  82767 non-null object\n",
      "host_response_rate                  100000 non-null float64\n",
      "host_response_time                  100000 non-null category\n",
      "host_since                          99858 non-null object\n",
      "host_total_listings_count           100000 non-null float64\n",
      "host_verifications                  99990 non-null object\n",
      "house_rules                         69607 non-null object\n",
      "instant_bookable                    100000 non-null category\n",
      "interaction                         64120 non-null object\n",
      "is_business_travel_ready            100000 non-null category\n",
      "is_location_exact                   100000 non-null category\n",
      "jurisdiction_names                  47310 non-null object\n",
      "latitude                            99990 non-null object\n",
      "license                             14279 non-null object\n",
      "longitude                           99989 non-null object\n",
      "market                              99567 non-null object\n",
      "maximum_nights                      100000 non-null float64\n",
      "minimum_nights                      100000 non-null float64\n",
      "monthly_price                       20564 non-null object\n",
      "name                                99967 non-null object\n",
      "neighborhood_overview               69257 non-null object\n",
      "neighbourhood                       86447 non-null object\n",
      "notes                               51466 non-null object\n",
      "price                               100000 non-null float64\n",
      "property_type                       100000 non-null category\n",
      "require_guest_phone_verification    99981 non-null object\n",
      "require_guest_profile_picture       100000 non-null object\n",
      "requires_license                    100000 non-null object\n",
      "room_type                           100000 non-null category\n",
      "security_deposit                    100000 non-null category\n",
      "smart_location                      99980 non-null object\n",
      "space                               78955 non-null object\n",
      "square_feet                         1581 non-null float64\n",
      "state                               100000 non-null category\n",
      "street                              99981 non-null object\n",
      "summary                             97036 non-null object\n",
      "transit                             70833 non-null object\n",
      "weekly_price                        24105 non-null object\n",
      "zipcode                             98951 non-null object\n",
      "Wifi                                100000 non-null category\n",
      "parking                             100000 non-null category\n",
      "Kitchen                             100000 non-null category\n",
      "24-hour-check                       100000 non-null category\n",
      "Breakfast                           100000 non-null category\n",
      "ac                                  100000 non-null category\n",
      "Heating                             100000 non-null category\n",
      "Reviews                             100000 non-null category\n",
      "Email                               100000 non-null category\n",
      "Phone                               100000 non-null category\n",
      "Facebook                            100000 non-null category\n",
      "interaction_availability            100000 non-null float64\n",
      "interaction_availability1           100000 non-null float64\n",
      "dtypes: category(24), float64(19), int64(2), object(39)\n",
      "memory usage: 48.2+ MB\n"
     ]
    }
   ],
   "source": [
    "data.info()"
   ]
  },
  {
   "cell_type": "code",
   "execution_count": 11,
   "metadata": {},
   "outputs": [],
   "source": [
    "X = data[['accommodates', 'interaction_availability1', 'interaction_availability','bathrooms','bed_type',\n",
    "             'cleaning_fee', 'Wifi', 'parking', 'Kitchen', '24-hour-check', 'Breakfast', 'ac', 'Heating', 'property_type', 'price', \n",
    "             'bedrooms', 'beds','security_deposit','state', 'cancellation_policy', 'extra_people', 'guests_included',\n",
    "         'host_has_profile_pic', 'Reviews', 'Email', 'Phone', 'Facebook', 'host_is_superhost', 'host_response_rate', 'host_response_time',\n",
    "        'host_total_listings_count', 'maximum_nights', 'minimum_nights', 'instant_bookable', 'is_business_travel_ready',\n",
    "         'is_location_exact', 'room_type', 'city']]\n",
    "y = train_y['high_booking_rate']"
   ]
  },
  {
   "cell_type": "code",
   "execution_count": 12,
   "metadata": {},
   "outputs": [],
   "source": [
    "   X_train, X_test, y_train, y_test = train_test_split(X, y, test_size=0.30, random_state=42)"
   ]
  },
  {
   "cell_type": "code",
   "execution_count": 22,
   "metadata": {},
   "outputs": [],
   "source": [
    "dt = DecisionTreeClassifier() "
   ]
  },
  {
   "cell_type": "code",
   "execution_count": 54,
   "metadata": {},
   "outputs": [
    {
     "data": {
      "text/plain": [
       "AdaBoostClassifier(algorithm='SAMME.R',\n",
       "          base_estimator=DecisionTreeClassifier(class_weight=None, criterion='gini', max_depth=None,\n",
       "            max_features=None, max_leaf_nodes=None,\n",
       "            min_impurity_decrease=0.0, min_impurity_split=None,\n",
       "            min_samples_leaf=1, min_samples_split=2,\n",
       "            min_weight_fraction_leaf=0.0, presort=False, random_state=None,\n",
       "            splitter='best'),\n",
       "          learning_rate=0.2, n_estimators=400, random_state=None)"
      ]
     },
     "execution_count": 54,
     "metadata": {},
     "output_type": "execute_result"
    }
   ],
   "source": [
    "clf = AdaBoostClassifier(n_estimators=400, base_estimator=dt,learning_rate=0.2) \n",
    "clf.fit(X_train,y_train)"
   ]
  },
  {
   "cell_type": "code",
   "execution_count": 55,
   "metadata": {},
   "outputs": [],
   "source": [
    "predictions = clf.predict(X_test)"
   ]
  },
  {
   "cell_type": "code",
   "execution_count": 56,
   "metadata": {},
   "outputs": [
    {
     "data": {
      "text/plain": [
       "0.8219666666666666"
      ]
     },
     "execution_count": 56,
     "metadata": {},
     "output_type": "execute_result"
    }
   ],
   "source": [
    "from sklearn.metrics import accuracy_score\n",
    "accuracy_score(y_test, predictions)"
   ]
  },
  {
   "cell_type": "code",
   "execution_count": 37,
   "metadata": {
    "collapsed": true
   },
   "outputs": [],
   "source": [
    "data = pd.read_csv('test_x_may3_11am.csv')"
   ]
  },
  {
   "cell_type": "code",
   "execution_count": 38,
   "metadata": {
    "collapsed": true
   },
   "outputs": [],
   "source": [
    "4-\n",
    "data[\"state\"] = data[\"state\"].cat.codes\n",
    "data.state = data.state.astype('category')\n",
    "\n",
    "data.property_type=data.property_type.astype('category')\n",
    "data[\"property_type\"] = data[\"property_type\"].cat.codes\n",
    "data.property_type=data.property_type.astype('category')\n",
    "\n",
    "data.instant_bookable = data.instant_bookable.astype('category')\n",
    "data[\"instant_bookable\"] = data[\"instant_bookable\"].cat.codes\n",
    "data.instant_bookable = data.instant_bookable.astype('category')\n",
    "\n",
    "data.is_business_travel_ready = data.is_business_travel_ready.astype('category')\n",
    "data[\"is_business_travel_ready\"] = data[\"is_business_travel_ready\"].cat.codes\n",
    "data.is_business_travel_ready = data.is_business_travel_ready.astype('category')\n",
    "\n",
    "data.is_location_exact = data.is_location_exact.astype('category')\n",
    "data[\"is_location_exact\"] = data[\"is_location_exact\"].cat.codes\n",
    "data.is_location_exact = data.is_location_exact.astype('category')\n",
    "\n",
    "data.city = data.city.astype('category')\n",
    "data[\"city\"] = data[\"city\"].cat.codes\n",
    "data.city = data.city.astype('category')"
   ]
  },
  {
   "cell_type": "code",
   "execution_count": 39,
   "metadata": {
    "collapsed": true
   },
   "outputs": [],
   "source": [
    "data.room_type = data.room_type.astype('category')\n",
    "data[\"room_type\"] = data[\"room_type\"].cat.codes\n",
    "data.room_type = data.room_type.astype('category')"
   ]
  },
  {
   "cell_type": "code",
   "execution_count": 40,
   "metadata": {
    "collapsed": true
   },
   "outputs": [],
   "source": [
    "X_test_data = data[['accommodates', 'availability_30', 'availability_60', 'availability_90', 'availability_365','bathrooms','bed_type',\n",
    "             'cleaning_fee', 'Wifi', 'parking', 'Kitchen', '24-hour-check', 'Breakfast', 'ac', 'Heating', 'property_type', 'price', \n",
    "             'bedrooms', 'beds','security_deposit','state', 'cancellation_policy', 'extra_people', 'guests_included',\n",
    "         'host_has_profile_pic', 'host_identity_verified', 'host_is_superhost', 'host_response_rate', 'host_response_time',\n",
    "        'host_total_listings_count', 'maximum_nights', 'minimum_nights', 'instant_bookable', 'is_business_travel_ready',\n",
    "         'is_location_exact', 'room_type', 'city']]"
   ]
  },
  {
   "cell_type": "code",
   "execution_count": 41,
   "metadata": {
    "collapsed": true
   },
   "outputs": [],
   "source": [
    "test_pred = clf.predict(X_test_data)"
   ]
  },
  {
   "cell_type": "code",
   "execution_count": 42,
   "metadata": {
    "collapsed": true
   },
   "outputs": [],
   "source": [
    "test_pred_df = pd.DataFrame(test_pred)"
   ]
  },
  {
   "cell_type": "code",
   "execution_count": 43,
   "metadata": {},
   "outputs": [
    {
     "data": {
      "text/plain": [
       "0.0    10752\n",
       "1.0     1456\n",
       "Name: 0, dtype: int64"
      ]
     },
     "execution_count": 43,
     "metadata": {},
     "output_type": "execute_result"
    }
   ],
   "source": [
    "test_pred_df[0].value_counts()"
   ]
  },
  {
   "cell_type": "code",
   "execution_count": null,
   "metadata": {
    "collapsed": true
   },
   "outputs": [],
   "source": [
    "learning_rate = df[0.1, 0.2, 0.3, 0.3, 0.5]"
   ]
  },
  {
   "cell_type": "code",
   "execution_count": null,
   "metadata": {
    "collapsed": true
   },
   "outputs": [],
   "source": []
  },
  {
   "cell_type": "code",
   "execution_count": null,
   "metadata": {
    "collapsed": true
   },
   "outputs": [],
   "source": []
  },
  {
   "cell_type": "code",
   "execution_count": null,
   "metadata": {
    "collapsed": true
   },
   "outputs": [],
   "source": []
  },
  {
   "cell_type": "code",
   "execution_count": null,
   "metadata": {
    "collapsed": true
   },
   "outputs": [],
   "source": []
  },
  {
   "cell_type": "code",
   "execution_count": null,
   "metadata": {
    "collapsed": true
   },
   "outputs": [],
   "source": []
  }
 ],
 "metadata": {
  "kernelspec": {
   "display_name": "Python 3",
   "language": "python",
   "name": "python3"
  },
  "language_info": {
   "codemirror_mode": {
    "name": "ipython",
    "version": 3
   },
   "file_extension": ".py",
   "mimetype": "text/x-python",
   "name": "python",
   "nbconvert_exporter": "python",
   "pygments_lexer": "ipython3",
   "version": "3.6.4"
  }
 },
 "nbformat": 4,
 "nbformat_minor": 2
}
